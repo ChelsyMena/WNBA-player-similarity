{
 "cells": [
  {
   "cell_type": "code",
   "execution_count": null,
   "metadata": {},
   "outputs": [
    {
     "name": "stdout",
     "output_type": "stream",
     "text": [
      "                  Player Team Pos   G   MP  G.1  GS  MP.1    FG   FGA  ...  \\\n",
      "0          Anita Maxwell  CLE   F   9   63    9   0    63   6.9  21.6  ...   \n",
      "1            Tammi Reiss  UTA   G  28  831   28  26   831   4.6  14.8  ...   \n",
      "2       Catarina Pollini  HOU   F  13   94   13   0    94   4.8  13.1  ...   \n",
      "3         Bridget Pettis  PHO   G  28  842   28  28   842   6.8  20.3  ...   \n",
      "4             Kim Perrot  HOU   G  28  692   28  24   692   4.8  13.1  ...   \n",
      "...                  ...  ...  ..  ..  ...  ...  ..   ...   ...   ...  ...   \n",
      "4930       Rachel Banham  CHI   G  16  316   16   9   316   6.0  17.3  ...   \n",
      "4931          Sug Sutton  WAS   G   7   51    7   0    51   2.0   6.9  ...   \n",
      "4932    Monique Billings  PHO   F  13  234   13   2   234   5.0  11.6  ...   \n",
      "4933       Marina Mabrey  CON   G  16  439   16   3   439  10.9  23.4  ...   \n",
      "4934  Myisha Hines-Allen  MIN   F  13  230   13   1   230   7.6  15.2  ...   \n",
      "\n",
      "        FT%  ORB   TRB  AST  STL  BLK  TOV    PF   PTS  Season  \n",
      "0     0.375  1.7  10.4  6.9  3.5  0.0  5.2   4.3  16.4    1997  \n",
      "1     0.764  1.9   4.9  5.6  1.5  0.1  3.9   3.7  13.9    1997  \n",
      "2     0.500  1.8   7.1  3.0  2.4  0.6  4.8  12.5  13.1    1997  \n",
      "3     0.898  2.3   6.8  5.0  3.1  0.7  5.2   3.6  22.4    1997  \n",
      "4     0.405  1.5   6.1  7.1  5.6  0.2  5.3   4.3  13.0    1997  \n",
      "...     ...  ...   ...  ...  ...  ...  ...   ...   ...     ...  \n",
      "4930  0.700  0.6   4.5  4.2  1.0  0.3  1.5   4.4  17.8    2024  \n",
      "4931    NaN  0.0   4.0  9.9  2.0  0.0  5.0   1.0   4.0    2024  \n",
      "4932  0.800  4.4  11.8  1.5  2.6  1.3  3.1   5.5  14.0    2024  \n",
      "4933  0.682  0.6   6.7  6.5  1.9  1.2  3.2   4.8  28.7    2024  \n",
      "4934  0.839  3.4  12.3  6.5  2.5  0.4  3.8   6.7  22.0    2024  \n",
      "\n",
      "[4935 rows x 29 columns]\n"
     ]
    }
   ],
   "source": [
    "import os\n",
    "import pandas as pd\n",
    "\n",
    "# Define the directory containing the CSV files\n",
    "directory = r'c:\\Users\\USER\\iCloudDrive\\iCloud~md~obsidian\\iCloud Vault\\Masters\\Data Mining and Knowledge Discovery\\Project\\WNBA-player-similarity\\data'\n",
    "\n",
    "# Initialize an empty list to store DataFrames\n",
    "dfs = []\n",
    "\n",
    "# Loop through all files in the directory\n",
    "for filename in os.listdir(directory):\n",
    "    if filename.endswith('.csv'):\n",
    "        file_path = os.path.join(directory, filename)\n",
    "        df = pd.read_csv(file_path)\n",
    "        df['Season'] = filename.replace('.csv', '')\n",
    "        dfs.append(df)\n",
    "\n",
    "# Concatenate all DataFrames into a single DataFrame\n",
    "combined_df = pd.concat(dfs, ignore_index=True)\n",
    "\n",
    "# Display the combined DataFrame\n",
    "print(combined_df)\n",
    "\n",
    "combined_df.to_csv(rf'{directory}\\per_100.csv', index=False)"
   ]
  }
 ],
 "metadata": {
  "kernelspec": {
   "display_name": "env_DMProject",
   "language": "python",
   "name": "python3"
  },
  "language_info": {
   "codemirror_mode": {
    "name": "ipython",
    "version": 3
   },
   "file_extension": ".py",
   "mimetype": "text/x-python",
   "name": "python",
   "nbconvert_exporter": "python",
   "pygments_lexer": "ipython3",
   "version": "3.11.9"
  }
 },
 "nbformat": 4,
 "nbformat_minor": 2
}
